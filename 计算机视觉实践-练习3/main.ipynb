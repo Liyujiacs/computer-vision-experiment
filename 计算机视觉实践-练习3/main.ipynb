{
 "cells": [
  {
   "cell_type": "code",
   "execution_count": 6,
   "metadata": {},
   "outputs": [
    {
     "name": "stdout",
     "output_type": "stream",
     "text": [
      "Image: baby\n",
      "Skimage PSNR: 34.234670216041835\n",
      "Skimage SSIM: 0.9689547745311038\n",
      "Image: bird\n",
      "Skimage PSNR: 32.53831093386981\n",
      "Skimage SSIM: 0.9801938812506557\n",
      "Image: butterfly\n",
      "Skimage PSNR: 27.0513303554382\n",
      "Skimage SSIM: 0.9457663831695711\n",
      "Image: head\n",
      "Skimage PSNR: 32.10250557639502\n",
      "Skimage SSIM: 0.9267513278324323\n",
      "Image: woman\n",
      "Skimage PSNR: 29.945213055178993\n",
      "Skimage SSIM: 0.9659807475093263\n"
     ]
    }
   ],
   "source": [
    "from PIL import Image\n",
    "import numpy as np\n",
    "import os\n",
    "from skimage.metrics import peak_signal_noise_ratio as psnr\n",
    "from skimage.metrics import structural_similarity as ssim\n",
    "\n",
    "\n",
    "img_list = os.listdir('Set5')\n",
    "for img in img_list:\n",
    "    original_img = np.array(Image.open('Set5/' + img))\n",
    "    SR_img = np.array(Image.open('super resolution/' + img[:-4] + '_srcnn_x3.png'))\n",
    "\n",
    "    # 计算PSNR\n",
    "    psnr_skimage = psnr(original_img, SR_img)\n",
    "\n",
    "    # SSIM计算\n",
    "    ssim_skimage = ssim(original_img, SR_img, multichannel=True, win_size=3)\n",
    "\n",
    "    print(f\"Image: {img[:-4]}\")\n",
    "    print(\"PSNR:\", psnr_skimage)\n",
    "    print(\"SSIM:\", ssim_skimage)"
   ]
  },
  {
   "cell_type": "code",
   "execution_count": null,
   "metadata": {},
   "outputs": [],
   "source": []
  }
 ],
 "metadata": {
  "kernelspec": {
   "display_name": "new",
   "language": "python",
   "name": "python3"
  },
  "language_info": {
   "codemirror_mode": {
    "name": "ipython",
    "version": 3
   },
   "file_extension": ".py",
   "mimetype": "text/x-python",
   "name": "python",
   "nbconvert_exporter": "python",
   "pygments_lexer": "ipython3",
   "version": "3.10.13"
  }
 },
 "nbformat": 4,
 "nbformat_minor": 2
}
